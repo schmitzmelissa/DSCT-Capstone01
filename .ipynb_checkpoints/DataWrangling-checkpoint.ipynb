{
 "cells": [
  {
   "cell_type": "code",
   "execution_count": 3,
   "metadata": {},
   "outputs": [
    {
     "data": {
      "text/plain": [
       "pandas.core.frame.DataFrame"
      ]
     },
     "execution_count": 3,
     "metadata": {},
     "output_type": "execute_result"
    }
   ],
   "source": [
    "import pandas as pd\n",
    "\n",
    "# Create DataFrame from CSV file\n",
    "countries = pd.read_csv('countries.csv')\n",
    "\n",
    "# Confirm it is a DataFrame\n",
    "type(countries)"
   ]
  },
  {
   "cell_type": "code",
   "execution_count": 4,
   "metadata": {},
   "outputs": [
    {
     "data": {
      "text/plain": [
       "188"
      ]
     },
     "execution_count": 4,
     "metadata": {},
     "output_type": "execute_result"
    }
   ],
   "source": [
    "# Determine how many countries are in the list\n",
    "len(countries)"
   ]
  },
  {
   "cell_type": "code",
   "execution_count": 5,
   "metadata": {
    "collapsed": true
   },
   "outputs": [],
   "source": [
    "# This dataset is from 2016 and contains 188 countries total.\n",
    "# As of 2018, there are 196-241 countries and territories (depends on political questions).\n",
    "# 5 countries with name changes since 2016 are either recorded with the old name or not recorded (~2%)\n",
    "# Conclusion: Most countries of the world have been recognized with this data."
   ]
  },
  {
   "cell_type": "code",
   "execution_count": 6,
   "metadata": {},
   "outputs": [
    {
     "name": "stdout",
     "output_type": "stream",
     "text": [
      "               Country                    Region  Population (millions)   HDI  \\\n",
      "0          Afghanistan  Middle East/Central Asia                  29.82  0.46   \n",
      "1              Albania   Northern/Eastern Europe                   3.16  0.73   \n",
      "2              Algeria                    Africa                  38.48  0.73   \n",
      "3               Angola                    Africa                  20.82  0.52   \n",
      "4  Antigua and Barbuda             Latin America                   0.09  0.78   \n",
      "\n",
      "  GDP per Capita  Cropland Footprint  Grazing Footprint  Forest Footprint  \\\n",
      "0        $614.66                0.30               0.20              0.08   \n",
      "1      $4,534.37                0.78               0.22              0.25   \n",
      "2      $5,430.57                0.60               0.16              0.17   \n",
      "3      $4,665.91                0.33               0.15              0.12   \n",
      "4     $13,205.10                 NaN                NaN               NaN   \n",
      "\n",
      "   Carbon Footprint  Fish Footprint      ...       Cropland  Grazing Land  \\\n",
      "0              0.18            0.00      ...           0.24          0.20   \n",
      "1              0.87            0.02      ...           0.55          0.21   \n",
      "2              1.14            0.01      ...           0.24          0.27   \n",
      "3              0.20            0.09      ...           0.20          1.42   \n",
      "4               NaN             NaN      ...            NaN           NaN   \n",
      "\n",
      "   Forest Land  Fishing Water  Urban Land  Total Biocapacity  \\\n",
      "0         0.02           0.00        0.04               0.50   \n",
      "1         0.29           0.07        0.06               1.18   \n",
      "2         0.03           0.01        0.03               0.59   \n",
      "3         0.64           0.26        0.04               2.55   \n",
      "4          NaN            NaN         NaN               0.94   \n",
      "\n",
      "   Biocapacity Deficit or Reserve  Earths Required  Countries Required  \\\n",
      "0                           -0.30             0.46                1.60   \n",
      "1                           -1.03             1.27                1.87   \n",
      "2                           -1.53             1.22                3.61   \n",
      "3                            1.61             0.54                0.37   \n",
      "4                           -4.44             3.11                5.70   \n",
      "\n",
      "   Data Quality  \n",
      "0             6  \n",
      "1             6  \n",
      "2             5  \n",
      "3             6  \n",
      "4             2  \n",
      "\n",
      "[5 rows x 21 columns]\n"
     ]
    }
   ],
   "source": [
    "print(countries.head(5))"
   ]
  }
 ],
 "metadata": {
  "kernelspec": {
   "display_name": "Python 3",
   "language": "python",
   "name": "python3"
  },
  "language_info": {
   "codemirror_mode": {
    "name": "ipython",
    "version": 3
   },
   "file_extension": ".py",
   "mimetype": "text/x-python",
   "name": "python",
   "nbconvert_exporter": "python",
   "pygments_lexer": "ipython3",
   "version": "3.6.2"
  }
 },
 "nbformat": 4,
 "nbformat_minor": 2
}

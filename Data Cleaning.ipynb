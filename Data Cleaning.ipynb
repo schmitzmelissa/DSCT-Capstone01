{
 "cells": [
  {
   "cell_type": "markdown",
   "metadata": {},
   "source": [
    "# Data Cleaning\n",
    "\n",
    "This notebook is for data cleaning purposes.\n",
    "\n",
    "**Other useful links:**\n",
    "- <a href=\"https://github.com/schmitzmelissa/DSCT-Capstone01/blob/master/InitialDataExploration.ipynb\">Initial Data Exploration</a>\n",
    "- <a href=\"https://github.com/schmitzmelissa/DSCT-Capstone01\">Full Github Repository</a>\n",
    "- <a href=\"https://www.kaggle.com/footprintnetwork/ecological-footprint\">Kaggle Dataset</a>\n",
    "- <a href=\"https://www.footprintnetwork.org/\">Data Source Website</a>\n",
    "- <a href=\"https://www.footprintnetwork.org/resources/glossary/\">Glossary of Relevant Terms</a>"
   ]
  },
  {
   "cell_type": "code",
   "execution_count": null,
   "metadata": {
    "collapsed": true
   },
   "outputs": [],
   "source": []
  }
 ],
 "metadata": {
  "kernelspec": {
   "display_name": "Python 3",
   "language": "python",
   "name": "python3"
  },
  "language_info": {
   "codemirror_mode": {
    "name": "ipython",
    "version": 3
   },
   "file_extension": ".py",
   "mimetype": "text/x-python",
   "name": "python",
   "nbconvert_exporter": "python",
   "pygments_lexer": "ipython3",
   "version": "3.6.2"
  }
 },
 "nbformat": 4,
 "nbformat_minor": 2
}

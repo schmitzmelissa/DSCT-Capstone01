{
 "cells": [
  {
   "cell_type": "code",
   "execution_count": 2,
   "metadata": {},
   "outputs": [
    {
     "data": {
      "text/plain": [
       "pandas.core.frame.DataFrame"
      ]
     },
     "execution_count": 2,
     "metadata": {},
     "output_type": "execute_result"
    }
   ],
   "source": [
    "import pandas as pd\n",
    "\n",
    "# Create DataFrame from CSV file\n",
    "countries = pd.read_csv('countries.csv')\n",
    "\n",
    "# Confirm it is a DataFrame\n",
    "type(countries)"
   ]
  },
  {
   "cell_type": "code",
   "execution_count": 3,
   "metadata": {},
   "outputs": [
    {
     "data": {
      "text/plain": [
       "188"
      ]
     },
     "execution_count": 3,
     "metadata": {},
     "output_type": "execute_result"
    }
   ],
   "source": [
    "# Determine how many countries are in the list\n",
    "len(countries)"
   ]
  },
  {
   "cell_type": "code",
   "execution_count": 4,
   "metadata": {
    "collapsed": true
   },
   "outputs": [],
   "source": [
    "# This dataset is from 2016 and contains 188 countries total.\n",
    "# As of 2018, there are 196-241 countries and territories (depends on political questions).\n",
    "# 5 countries with name changes since 2016 are either recorded with the old name or not recorded (~2%)\n",
    "# Conclusion: Most countries of the world have been recognized with this data."
   ]
  },
  {
   "cell_type": "code",
   "execution_count": 5,
   "metadata": {},
   "outputs": [
    {
     "name": "stdout",
     "output_type": "stream",
     "text": [
      "               Country                    Region  Population (millions)   HDI  \\\n",
      "0          Afghanistan  Middle East/Central Asia                  29.82  0.46   \n",
      "1              Albania   Northern/Eastern Europe                   3.16  0.73   \n",
      "2              Algeria                    Africa                  38.48  0.73   \n",
      "3               Angola                    Africa                  20.82  0.52   \n",
      "4  Antigua and Barbuda             Latin America                   0.09  0.78   \n",
      "\n",
      "  GDP per Capita  Cropland Footprint  Grazing Footprint  Forest Footprint  \\\n",
      "0        $614.66                0.30               0.20              0.08   \n",
      "1      $4,534.37                0.78               0.22              0.25   \n",
      "2      $5,430.57                0.60               0.16              0.17   \n",
      "3      $4,665.91                0.33               0.15              0.12   \n",
      "4     $13,205.10                 NaN                NaN               NaN   \n",
      "\n",
      "   Carbon Footprint  Fish Footprint      ...       Cropland  Grazing Land  \\\n",
      "0              0.18            0.00      ...           0.24          0.20   \n",
      "1              0.87            0.02      ...           0.55          0.21   \n",
      "2              1.14            0.01      ...           0.24          0.27   \n",
      "3              0.20            0.09      ...           0.20          1.42   \n",
      "4               NaN             NaN      ...            NaN           NaN   \n",
      "\n",
      "   Forest Land  Fishing Water  Urban Land  Total Biocapacity  \\\n",
      "0         0.02           0.00        0.04               0.50   \n",
      "1         0.29           0.07        0.06               1.18   \n",
      "2         0.03           0.01        0.03               0.59   \n",
      "3         0.64           0.26        0.04               2.55   \n",
      "4          NaN            NaN         NaN               0.94   \n",
      "\n",
      "   Biocapacity Deficit or Reserve  Earths Required  Countries Required  \\\n",
      "0                           -0.30             0.46                1.60   \n",
      "1                           -1.03             1.27                1.87   \n",
      "2                           -1.53             1.22                3.61   \n",
      "3                            1.61             0.54                0.37   \n",
      "4                           -4.44             3.11                5.70   \n",
      "\n",
      "   Data Quality  \n",
      "0             6  \n",
      "1             6  \n",
      "2             5  \n",
      "3             6  \n",
      "4             2  \n",
      "\n",
      "[5 rows x 21 columns]\n"
     ]
    }
   ],
   "source": [
    "print(countries.head(5))"
   ]
  },
  {
   "cell_type": "code",
   "execution_count": 19,
   "metadata": {},
   "outputs": [],
   "source": [
    "# Too many columns to print neatly in one shot, so splitting into chunks for better visibility\n",
    "country_IDs = countries.iloc[:,:5]\n",
    "country_footprints = countries.iloc[:,5:10]\n",
    "country_resources = countries.iloc[:,10:15]\n",
    "country_totals = countries.iloc[:,15:]"
   ]
  },
  {
   "cell_type": "code",
   "execution_count": 20,
   "metadata": {},
   "outputs": [
    {
     "name": "stdout",
     "output_type": "stream",
     "text": [
      "               Country                    Region  Population (millions)   HDI  \\\n",
      "0          Afghanistan  Middle East/Central Asia                  29.82  0.46   \n",
      "1              Albania   Northern/Eastern Europe                   3.16  0.73   \n",
      "2              Algeria                    Africa                  38.48  0.73   \n",
      "3               Angola                    Africa                  20.82  0.52   \n",
      "4  Antigua and Barbuda             Latin America                   0.09  0.78   \n",
      "5            Argentina             Latin America                  41.09  0.83   \n",
      "6              Armenia  Middle East/Central Asia                   2.97  0.73   \n",
      "7                Aruba             Latin America                   0.10   NaN   \n",
      "8            Australia              Asia-Pacific                  23.05  0.93   \n",
      "9              Austria            European Union                   8.46  0.88   \n",
      "\n",
      "  GDP per Capita  \n",
      "0        $614.66  \n",
      "1      $4,534.37  \n",
      "2      $5,430.57  \n",
      "3      $4,665.91  \n",
      "4     $13,205.10  \n",
      "5     $13,540.00  \n",
      "6      $3,426.39  \n",
      "7            NaN  \n",
      "8     $66,604.20  \n",
      "9     $51,274.10  \n"
     ]
    }
   ],
   "source": [
    "# Print out heads to ensure correct slicing\n",
    "print(country_IDs.head(10))"
   ]
  },
  {
   "cell_type": "code",
   "execution_count": 17,
   "metadata": {
    "scrolled": true
   },
   "outputs": [
    {
     "name": "stdout",
     "output_type": "stream",
     "text": [
      "   Cropland Footprint  Grazing Footprint  Forest Footprint  Carbon Footprint  \\\n",
      "0                0.30               0.20              0.08              0.18   \n",
      "1                0.78               0.22              0.25              0.87   \n",
      "2                0.60               0.16              0.17              1.14   \n",
      "3                0.33               0.15              0.12              0.20   \n",
      "4                 NaN                NaN               NaN               NaN   \n",
      "5                0.78               0.79              0.29              1.08   \n",
      "6                0.74               0.18              0.34              0.89   \n",
      "7                 NaN                NaN               NaN               NaN   \n",
      "8                2.68               0.63              0.89              4.85   \n",
      "9                0.82               0.27              0.63              4.14   \n",
      "\n",
      "   Fish Footprint  \n",
      "0            0.00  \n",
      "1            0.02  \n",
      "2            0.01  \n",
      "3            0.09  \n",
      "4             NaN  \n",
      "5            0.10  \n",
      "6            0.01  \n",
      "7             NaN  \n",
      "8            0.11  \n",
      "9            0.06  \n"
     ]
    }
   ],
   "source": [
    "print(country_footprints.head(10))"
   ]
  },
  {
   "cell_type": "code",
   "execution_count": 16,
   "metadata": {},
   "outputs": [
    {
     "name": "stdout",
     "output_type": "stream",
     "text": [
      "   Total Ecological Footprint  Cropland  Grazing Land  Forest Land  \\\n",
      "0                        0.79      0.24          0.20         0.02   \n",
      "1                        2.21      0.55          0.21         0.29   \n",
      "2                        2.12      0.24          0.27         0.03   \n",
      "3                        0.93      0.20          1.42         0.64   \n",
      "4                        5.38       NaN           NaN          NaN   \n",
      "5                        3.14      2.64          1.86         0.66   \n",
      "6                        2.23      0.44          0.26         0.10   \n",
      "7                       11.88       NaN           NaN          NaN   \n",
      "8                        9.31      5.42          5.81         2.01   \n",
      "9                        6.06      0.71          0.16         2.04   \n",
      "\n",
      "   Fishing Water  \n",
      "0           0.00  \n",
      "1           0.07  \n",
      "2           0.01  \n",
      "3           0.26  \n",
      "4            NaN  \n",
      "5           1.67  \n",
      "6           0.02  \n",
      "7            NaN  \n",
      "8           3.19  \n",
      "9           0.00  \n"
     ]
    }
   ],
   "source": [
    "print(country_resources.head(10))"
   ]
  },
  {
   "cell_type": "code",
   "execution_count": 18,
   "metadata": {},
   "outputs": [
    {
     "name": "stdout",
     "output_type": "stream",
     "text": [
      "   Urban Land  Total Biocapacity  Biocapacity Deficit or Reserve  \\\n",
      "0        0.04               0.50                           -0.30   \n",
      "1        0.06               1.18                           -1.03   \n",
      "2        0.03               0.59                           -1.53   \n",
      "3        0.04               2.55                            1.61   \n",
      "4         NaN               0.94                           -4.44   \n",
      "5        0.10               6.92                            3.78   \n",
      "6        0.07               0.89                           -1.35   \n",
      "7         NaN               0.57                          -11.31   \n",
      "8        0.14              16.57                            7.26   \n",
      "9        0.15               3.07                           -3.00   \n",
      "\n",
      "   Earths Required  Countries Required Data Quality  \n",
      "0             0.46                1.60            6  \n",
      "1             1.27                1.87            6  \n",
      "2             1.22                3.61            5  \n",
      "3             0.54                0.37            6  \n",
      "4             3.11                5.70            2  \n",
      "5             1.82                0.45            6  \n",
      "6             1.29                2.52           3B  \n",
      "7             6.86               20.69            2  \n",
      "8             5.37                0.56            5  \n",
      "9             3.50                1.98            5  \n"
     ]
    }
   ],
   "source": [
    "print(country_totals.head(10))"
   ]
  },
  {
   "cell_type": "code",
   "execution_count": 21,
   "metadata": {},
   "outputs": [
    {
     "name": "stdout",
     "output_type": "stream",
     "text": [
      "                               Country                    Region  Pop (M)  \\\n",
      "0                          Afghanistan  Middle East/Central Asia   29.820   \n",
      "1                              Albania   Northern/Eastern Europe    3.160   \n",
      "2                              Algeria                    Africa   38.480   \n",
      "3                               Angola                    Africa   20.820   \n",
      "4                  Antigua and Barbuda             Latin America    0.090   \n",
      "5                            Argentina             Latin America   41.090   \n",
      "6                              Armenia  Middle East/Central Asia    2.970   \n",
      "7                                Aruba             Latin America    0.100   \n",
      "8                            Australia              Asia-Pacific   23.050   \n",
      "9                              Austria            European Union    8.460   \n",
      "10                          Azerbaijan  Middle East/Central Asia    9.310   \n",
      "11                             Bahamas             Latin America    0.370   \n",
      "12                             Bahrain  Middle East/Central Asia    1.320   \n",
      "13                          Bangladesh              Asia-Pacific  154.700   \n",
      "14                            Barbados             Latin America    0.280   \n",
      "15                             Belarus   Northern/Eastern Europe    9.400   \n",
      "16                             Belgium            European Union   11.060   \n",
      "17                               Benin                    Africa   10.050   \n",
      "18                             Bermuda             North America    0.060   \n",
      "19                              Bhutan              Asia-Pacific    0.740   \n",
      "20                             Bolivia             Latin America   10.500   \n",
      "21              Bosnia and Herzegovina   Northern/Eastern Europe    3.830   \n",
      "22                            Botswana                    Africa    2.000   \n",
      "23                              Brazil             Latin America  198.660   \n",
      "24              British Virgin Islands             Latin America    0.030   \n",
      "25                   Brunei Darussalam              Asia-Pacific    0.410   \n",
      "26                            Bulgaria            European Union    7.280   \n",
      "27                        Burkina Faso                    Africa   16.460   \n",
      "28                             Burundi                    Africa    9.850   \n",
      "29                          Cabo Verde                    Africa    0.490   \n",
      "..                                 ...                       ...      ...   \n",
      "158                              Spain            European Union   46.760   \n",
      "159                          Sri Lanka              Asia-Pacific   21.100   \n",
      "160                           Suriname             Latin America    0.540   \n",
      "161                          Swaziland                    Africa    1.230   \n",
      "162                             Sweden            European Union    9.510   \n",
      "163                        Switzerland   Northern/Eastern Europe    8.000   \n",
      "164               Syrian Arab Republic  Middle East/Central Asia   21.890   \n",
      "165                         Tajikistan  Middle East/Central Asia    8.010   \n",
      "166       Tanzania, United Republic of                    Africa   47.780   \n",
      "167                           Thailand              Asia-Pacific   66.780   \n",
      "168                        Timor-Leste              Asia-Pacific    1.110   \n",
      "169                               Togo                    Africa    6.640   \n",
      "170                              Tonga              Asia-Pacific    0.100   \n",
      "171                Trinidad and Tobago             Latin America    1.340   \n",
      "172                            Tunisia                    Africa   10.880   \n",
      "173                             Turkey  Middle East/Central Asia   74.000   \n",
      "174                       Turkmenistan  Middle East/Central Asia    5.170   \n",
      "175                             Uganda                    Africa   36.350   \n",
      "176                            Ukraine   Northern/Eastern Europe   45.530   \n",
      "177                     United Kingdom            European Union   63.030   \n",
      "178               United Arab Emirates  Middle East/Central Asia    9.206   \n",
      "179           United States of America             North America  317.500   \n",
      "180                            Uruguay             Latin America    3.400   \n",
      "181                         Uzbekistan  Middle East/Central Asia   28.540   \n",
      "182  Venezuela, Bolivarian Republic of             Latin America   29.960   \n",
      "183                           Viet Nam              Asia-Pacific   90.800   \n",
      "184          Wallis and Futuna Islands              Asia-Pacific    0.010   \n",
      "185                              Yemen  Middle East/Central Asia   23.850   \n",
      "186                             Zambia                    Africa   14.080   \n",
      "187                           Zimbabwe                    Africa   13.720   \n",
      "\n",
      "          HDI GDP per Capita  \n",
      "0    0.460000        $614.66  \n",
      "1    0.730000      $4,534.37  \n",
      "2    0.730000      $5,430.57  \n",
      "3    0.520000      $4,665.91  \n",
      "4    0.780000     $13,205.10  \n",
      "5    0.830000     $13,540.00  \n",
      "6    0.730000      $3,426.39  \n",
      "7         NaN            NaN  \n",
      "8    0.930000     $66,604.20  \n",
      "9    0.880000     $51,274.10  \n",
      "10   0.750000      $7,106.04  \n",
      "11   0.780000     $22,647.30  \n",
      "12   0.820000     $24,299.00  \n",
      "13   0.560000        $857.50  \n",
      "14   0.790000     $15,722.80  \n",
      "15   0.800000      $6,300.45  \n",
      "16   0.890000     $48,053.30  \n",
      "17   0.480000        $746.83  \n",
      "18        NaN     $70,626.30  \n",
      "19   0.590000      $2,395.00  \n",
      "20   0.650000      $2,253.09  \n",
      "21   0.730000      $4,708.85  \n",
      "22   0.690000      $7,743.50  \n",
      "23   0.750000     $13,237.60  \n",
      "24        NaN            NaN  \n",
      "25   0.850000     $47,097.40  \n",
      "26   0.780000      $7,615.28  \n",
      "27   0.390000        $671.07  \n",
      "28   0.390000        $276.69  \n",
      "29   0.640000      $3,801.45  \n",
      "..        ...            ...  \n",
      "158  0.870000     $32,008.70  \n",
      "159  0.750000      $2,880.03  \n",
      "160  0.710000      $8,190.70  \n",
      "161  0.530000      $4,657.48  \n",
      "162  0.900000     $59,381.90  \n",
      "163  0.930000     $88,506.20  \n",
      "164  0.620000            NaN  \n",
      "165  0.620000        $836.17  \n",
      "166  0.510000        $765.33  \n",
      "167  0.720000      $5,479.29  \n",
      "168  0.600000      $5,167.86  \n",
      "169  0.470000        $580.86  \n",
      "170  0.720000      $4,330.90  \n",
      "171  0.770000     $18,310.80  \n",
      "172  0.720000      $4,305.07  \n",
      "173  0.760000     $10,437.70  \n",
      "174  0.680000      $5,290.14  \n",
      "175  0.480000        $601.35  \n",
      "176  0.740000      $3,589.63  \n",
      "177  0.900000     $40,980.50  \n",
      "178  0.830000     $40,817.40  \n",
      "179  0.910000     $49,725.00  \n",
      "180  0.790000     $14,238.10  \n",
      "181  0.670000      $1,560.85  \n",
      "182  0.763846     $10,237.80  \n",
      "183  0.660000      $1,532.31  \n",
      "184       NaN            NaN  \n",
      "185  0.500000      $1,302.30  \n",
      "186  0.580000      $1,740.64  \n",
      "187  0.490000        $865.91  \n",
      "\n",
      "[188 rows x 5 columns]\n"
     ]
    }
   ],
   "source": [
    "country_IDs = country_IDs.rename(columns = {'Population (millions)':'Pop (M)'})\n",
    "print(country_IDs)"
   ]
  },
  {
   "cell_type": "code",
   "execution_count": 23,
   "metadata": {},
   "outputs": [],
   "source": [
    "# Look for columns with NaN values\n",
    "# print(countries.loc[:, countries.isnull().any()])"
   ]
  },
  {
   "cell_type": "code",
   "execution_count": null,
   "metadata": {
    "collapsed": true
   },
   "outputs": [],
   "source": []
  }
 ],
 "metadata": {
  "kernelspec": {
   "display_name": "Python 3",
   "language": "python",
   "name": "python3"
  },
  "language_info": {
   "codemirror_mode": {
    "name": "ipython",
    "version": 3
   },
   "file_extension": ".py",
   "mimetype": "text/x-python",
   "name": "python",
   "nbconvert_exporter": "python",
   "pygments_lexer": "ipython3",
   "version": "3.6.2"
  }
 },
 "nbformat": 4,
 "nbformat_minor": 2
}
